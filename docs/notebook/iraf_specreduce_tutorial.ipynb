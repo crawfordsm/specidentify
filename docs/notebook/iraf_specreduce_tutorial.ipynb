{
 "cells": [
  {
   "cell_type": "markdown",
   "metadata": {},
   "source": [
    "# Optical Data Reduction using Python \n",
    "\n",
    "by Steve Crawford (South African Astronomical Observatory)"
   ]
  },
  {
   "cell_type": "code",
   "execution_count": 166,
   "metadata": {
    "collapsed": false
   },
   "outputs": [
    {
     "name": "stdout",
     "output_type": "stream",
     "text": [
      "The autoreload extension is already loaded. To reload it, use:\n",
      "  %reload_ext autoreload\n"
     ]
    }
   ],
   "source": [
    "%matplotlib inline\n",
    "%load_ext autoreload\n",
    "%autoreload 2"
   ]
  },
  {
   "cell_type": "markdown",
   "metadata": {},
   "source": [
    "In addition to instrument specific python pipelines, there now exists a suite of tools available for general reduction of optical observations. This includes  *ccdproc*, an astropy affiliated package for basic CCD reductions. The package is useful from student tutorials for learning CCD reductions to building science-quality reduction pipelines for observatories. In addition, we also present specreduce, a python package for reducing optical spectroscopy. The package includes an interactive graphical users interface for line identification as well as tools for extracting spectra. With this set of tools, pipelines can be built for instruments in relatively short times. While nearly complete, further improvements and enhancements are still needed and contributions are welcome."
   ]
  },
  {
   "cell_type": "markdown",
   "metadata": {},
   "source": [
    "# Introduction\n",
    "\n",
    "For our purposes, we will use the [same data](http://iraf.noao.edu/iraf/ftp/iraf/misc/) in the [IRAF tutorials](http://iraf.noao.edu/tutorials/).   However, we will show how to reduce the data in the same way only using current general purpose python tools.  \n"
   ]
  },
  {
   "cell_type": "code",
   "execution_count": 2,
   "metadata": {
    "collapsed": false
   },
   "outputs": [],
   "source": [
    "import numpy as np\n",
    "from matplotlib import pyplot as plt\n",
    "\n",
    "from astropy import units as u\n",
    "from astropy.io import fits\n",
    "from astropy import modeling as mod"
   ]
  },
  {
   "cell_type": "markdown",
   "metadata": {},
   "source": [
    "## CCD Reduction"
   ]
  },
  {
   "cell_type": "code",
   "execution_count": 3,
   "metadata": {
    "collapsed": true
   },
   "outputs": [],
   "source": [
    "import ccdproc \n",
    "from ccdproc import CCDData, ImageFileCollection"
   ]
  },
  {
   "cell_type": "markdown",
   "metadata": {},
   "source": [
    "[*ccdproc*](https://github.com/astropy/ccdproc) is an astropy affiliated package for handling CCD data reductions.   The code contains all the necessary content to produce pipelines for basic CCD reductions.   Here we use *ccdproc* to reduce a spectroscopic data set.\n"
   ]
  },
  {
   "cell_type": "markdown",
   "metadata": {},
   "source": [
    "The *ImageFileCollection* class in *ccdproc* is useful for reading and sorting of the FITS files in a directory.   "
   ]
  },
  {
   "cell_type": "code",
   "execution_count": 4,
   "metadata": {
    "collapsed": false
   },
   "outputs": [],
   "source": [
    "from ccdproc import ImageFileCollection\n",
    "image_dir = 'exercises/spec/'\n",
    "ic = ImageFileCollection('exercises/spec/') #read in all FITS files in the directory"
   ]
  },
  {
   "cell_type": "code",
   "execution_count": 5,
   "metadata": {
    "collapsed": false
   },
   "outputs": [
    {
     "data": {
      "text/html": [
       "&lt;Table masked=True length=25&gt;\n",
       "<table id=\"table4602105472\" class=\"table-striped table-bordered table-condensed\">\n",
       "<thead><tr><th>file</th><th>simple</th><th>bitpix</th><th>naxis</th><th>naxis1</th><th>naxis2</th><th>extend</th><th>origin</th><th>date</th><th>iraf-tlm</th><th>datamin</th><th>datamax</th><th>object</th><th>iraf-max</th><th>iraf-min</th><th>observat</th><th>observer</th><th>exptime</th><th>darktime</th><th>imagetyp</th><th>date-obs</th><th>ut</th><th>st</th><th>ra</th><th>dec</th><th>epoch</th><th>zd</th><th>airmass</th><th>telescop</th><th>detector</th><th>preflash</th><th>gain</th><th>dwell</th><th>rdnoise</th><th>delay0</th><th>delay1</th><th>camtemp</th><th>dewtemp</th><th>datasec</th><th>biassec</th><th>trimsec</th><th>ccdsec</th><th>origsec</th><th>ccdsum</th><th>instrume</th><th>gratpos</th><th>history</th></tr></thead>\n",
       "<thead><tr><th>str11</th><th>bool</th><th>int64</th><th>int64</th><th>int64</th><th>int64</th><th>bool</th><th>str37</th><th>str19</th><th>str19</th><th>float64</th><th>float64</th><th>str24</th><th>float64</th><th>float64</th><th>str4</th><th>str6</th><th>float64</th><th>float64</th><th>str6</th><th>str8</th><th>str11</th><th>str11</th><th>str11</th><th>str11</th><th>float64</th><th>str6</th><th>float64</th><th>str5</th><th>str4</th><th>int64</th><th>float64</th><th>int64</th><th>float64</th><th>int64</th><th>int64</th><th>int64</th><th>int64</th><th>str14</th><th>str16</th><th>str14</th><th>str15</th><th>str15</th><th>str3</th><th>str4</th><th>float64</th><th>str140</th></tr></thead>\n",
       "<tr><td>sp0001.fits</td><td>True</td><td>16</td><td>2</td><td>133</td><td>1024</td><td>False</td><td>NOAO-IRAF FITS Image Kernel July 2003</td><td>2016-10-13T14:05:48</td><td>2016-10-13T14:05:48</td><td>608.0</td><td>620.0</td><td>biases 1st afternoon</td><td>620.0</td><td>608.0</td><td>KPNO</td><td>Massey</td><td>0.0</td><td>0.0</td><td>zero</td><td>24/01/92</td><td>22:43:39.00</td><td>23:31:19.00</td><td>23:31:13.00</td><td>0:03:31.00</td><td>1992.1</td><td>31.820</td><td>1.17</td><td>kpcdf</td><td>te1k</td><td>0</td><td>5.4</td><td>5</td><td>3.5</td><td>0</td><td>0</td><td>-113</td><td>-192</td><td>[1:101,1:1024]</td><td>[102:133,1:1024]</td><td>[1:101,1:1024]</td><td>[75:175,1:1024]</td><td>[1:1024,1:1024]</td><td>1 1</td><td>test</td><td>4563.7</td><td>&apos;KPNO-IRAF&apos;  /,&apos;24-01-92&apos;  /,New copy of ../sp0001.imh,New copy of raw/sp0001.imh,New copy of ursa!/u2/jbarnes/iraf/helsinki/spec/sp0001.imh</td></tr>\n",
       "<tr><td>sp0002.fits</td><td>True</td><td>16</td><td>2</td><td>133</td><td>1024</td><td>False</td><td>NOAO-IRAF FITS Image Kernel July 2003</td><td>2016-10-13T14:05:48</td><td>2016-10-13T14:05:48</td><td>609.0</td><td>620.0</td><td>biases 1st afternoon</td><td>620.0</td><td>609.0</td><td>KPNO</td><td>Massey</td><td>0.0</td><td>0.0</td><td>zero</td><td>24/01/92</td><td>22:44:26.00</td><td>23:32:05.00</td><td>23:32:00.00</td><td>0:03:31.00</td><td>1992.1</td><td>31.820</td><td>1.17</td><td>kpcdf</td><td>te1k</td><td>0</td><td>5.4</td><td>5</td><td>3.5</td><td>0</td><td>0</td><td>-113</td><td>-192</td><td>[1:101,1:1024]</td><td>[102:133,1:1024]</td><td>[1:101,1:1024]</td><td>[75:175,1:1024]</td><td>[1:1024,1:1024]</td><td>1 1</td><td>test</td><td>4563.7</td><td>&apos;KPNO-IRAF&apos;  /,&apos;24-01-92&apos;  /,New copy of ../sp0002.imh,New copy of raw/sp0002.imh,New copy of ursa!/u2/jbarnes/iraf/helsinki/spec/sp0002.imh</td></tr>\n",
       "<tr><td>sp0003.fits</td><td>True</td><td>16</td><td>2</td><td>133</td><td>1024</td><td>False</td><td>NOAO-IRAF FITS Image Kernel July 2003</td><td>2016-10-13T14:05:48</td><td>2016-10-13T14:05:48</td><td>609.0</td><td>620.0</td><td>biases 1st afternoon</td><td>620.0</td><td>609.0</td><td>KPNO</td><td>Massey</td><td>0.0</td><td>0.0</td><td>zero</td><td>24/01/92</td><td>22:45:12.00</td><td>23:32:52.00</td><td>23:32:46.00</td><td>0:03:31.00</td><td>1992.1</td><td>31.820</td><td>1.17</td><td>kpcdf</td><td>te1k</td><td>0</td><td>5.4</td><td>5</td><td>3.5</td><td>0</td><td>0</td><td>-113</td><td>-192</td><td>[1:101,1:1024]</td><td>[102:133,1:1024]</td><td>[1:101,1:1024]</td><td>[75:175,1:1024]</td><td>[1:1024,1:1024]</td><td>1 1</td><td>test</td><td>4563.7</td><td>&apos;KPNO-IRAF&apos;  /,&apos;24-01-92&apos;  /,New copy of ../sp0003.imh,New copy of raw/sp0003.imh,New copy of ursa!/u2/jbarnes/iraf/helsinki/spec/sp0003.imh</td></tr>\n",
       "<tr><td>sp0004.fits</td><td>True</td><td>16</td><td>2</td><td>133</td><td>1024</td><td>False</td><td>NOAO-IRAF FITS Image Kernel July 2003</td><td>2016-10-13T14:05:48</td><td>2016-10-13T14:05:48</td><td>609.0</td><td>1737.0</td><td>biases 1st afternoon</td><td>1737.0</td><td>609.0</td><td>KPNO</td><td>Massey</td><td>0.0</td><td>0.0</td><td>zero</td><td>24/01/92</td><td>22:45:58.00</td><td>23:33:38.00</td><td>23:33:33.00</td><td>0:03:31.00</td><td>1992.1</td><td>31.820</td><td>1.17</td><td>kpcdf</td><td>te1k</td><td>0</td><td>5.4</td><td>5</td><td>3.5</td><td>0</td><td>0</td><td>-113</td><td>-192</td><td>[1:101,1:1024]</td><td>[102:133,1:1024]</td><td>[1:101,1:1024]</td><td>[75:175,1:1024]</td><td>[1:1024,1:1024]</td><td>1 1</td><td>test</td><td>4563.7</td><td>&apos;KPNO-IRAF&apos;  /,&apos;24-01-92&apos;  /,New copy of ../sp0004.imh,New copy of raw/sp0004.imh,New copy of ursa!/u2/jbarnes/iraf/helsinki/spec/sp0004.imh</td></tr>\n",
       "<tr><td>sp0005.fits</td><td>True</td><td>16</td><td>2</td><td>133</td><td>1024</td><td>False</td><td>NOAO-IRAF FITS Image Kernel July 2003</td><td>2016-10-13T14:05:48</td><td>2016-10-13T14:05:48</td><td>609.0</td><td>1283.0</td><td>biases 1st afternoon</td><td>1283.0</td><td>609.0</td><td>KPNO</td><td>Massey</td><td>0.0</td><td>0.0</td><td>zero</td><td>24/01/92</td><td>22:46:45.00</td><td>23:34:25.00</td><td>23:34:19.00</td><td>0:03:31.00</td><td>1992.1</td><td>31.820</td><td>1.17</td><td>kpcdf</td><td>te1k</td><td>0</td><td>5.4</td><td>5</td><td>3.5</td><td>0</td><td>0</td><td>-113</td><td>-192</td><td>[1:101,1:1024]</td><td>[102:133,1:1024]</td><td>[1:101,1:1024]</td><td>[75:175,1:1024]</td><td>[1:1024,1:1024]</td><td>1 1</td><td>test</td><td>4563.7</td><td>&apos;KPNO-IRAF&apos;  /,&apos;24-01-92&apos;  /,New copy of ../sp0005.imh,New copy of raw/sp0005.imh,New copy of ursa!/u2/jbarnes/iraf/helsinki/spec/sp0005.imh</td></tr>\n",
       "<tr><td>sp0006.fits</td><td>True</td><td>16</td><td>2</td><td>133</td><td>1024</td><td>False</td><td>NOAO-IRAF FITS Image Kernel July 2003</td><td>2016-10-13T14:05:48</td><td>2016-10-13T14:05:48</td><td>609.0</td><td>1186.0</td><td>biases 1st afternoon</td><td>1186.0</td><td>609.0</td><td>KPNO</td><td>Massey</td><td>0.0</td><td>0.0</td><td>zero</td><td>24/01/92</td><td>22:47:31.00</td><td>23:35:11.00</td><td>23:35:06.00</td><td>0:03:31.00</td><td>1992.1</td><td>31.820</td><td>1.17</td><td>kpcdf</td><td>te1k</td><td>0</td><td>5.4</td><td>5</td><td>3.5</td><td>0</td><td>0</td><td>-113</td><td>-192</td><td>[1:101,1:1024]</td><td>[102:133,1:1024]</td><td>[1:101,1:1024]</td><td>[75:175,1:1024]</td><td>[1:1024,1:1024]</td><td>1 1</td><td>test</td><td>4563.7</td><td>&apos;KPNO-IRAF&apos;  /,&apos;24-01-92&apos;  /,New copy of ../sp0006.imh,New copy of raw/sp0006.imh,New copy of ursa!/u2/jbarnes/iraf/helsinki/spec/sp0006.imh</td></tr>\n",
       "<tr><td>sp0007.fits</td><td>True</td><td>16</td><td>2</td><td>133</td><td>1024</td><td>False</td><td>NOAO-IRAF FITS Image Kernel July 2003</td><td>2016-10-13T14:05:48</td><td>2016-10-13T14:05:48</td><td>608.0</td><td>832.0</td><td>biases 1st afternoon</td><td>832.0</td><td>608.0</td><td>KPNO</td><td>Massey</td><td>0.0</td><td>0.0</td><td>zero</td><td>24/01/92</td><td>22:48:17.00</td><td>23:35:58.00</td><td>23:35:52.00</td><td>0:03:31.00</td><td>1992.1</td><td>31.820</td><td>1.17</td><td>kpcdf</td><td>te1k</td><td>0</td><td>5.4</td><td>5</td><td>3.5</td><td>0</td><td>0</td><td>-113</td><td>-192</td><td>[1:101,1:1024]</td><td>[102:133,1:1024]</td><td>[1:101,1:1024]</td><td>[75:175,1:1024]</td><td>[1:1024,1:1024]</td><td>1 1</td><td>test</td><td>4563.7</td><td>&apos;KPNO-IRAF&apos;  /,&apos;24-01-92&apos;  /,New copy of ../sp0007.imh,New copy of raw/sp0007.imh,New copy of ursa!/u2/jbarnes/iraf/helsinki/spec/sp0007.imh</td></tr>\n",
       "<tr><td>sp0008.fits</td><td>True</td><td>16</td><td>2</td><td>133</td><td>1024</td><td>False</td><td>NOAO-IRAF FITS Image Kernel July 2003</td><td>2016-10-13T14:05:48</td><td>2016-10-13T14:05:48</td><td>609.0</td><td>806.0</td><td>biases 1st afternoon</td><td>806.0</td><td>609.0</td><td>KPNO</td><td>Massey</td><td>0.0</td><td>0.0</td><td>zero</td><td>24/01/92</td><td>22:49:04.00</td><td>23:36:44.00</td><td>23:36:38.00</td><td>0:03:31.00</td><td>1992.1</td><td>31.820</td><td>1.17</td><td>kpcdf</td><td>te1k</td><td>0</td><td>5.4</td><td>5</td><td>3.5</td><td>0</td><td>0</td><td>-113</td><td>-192</td><td>[1:101,1:1024]</td><td>[102:133,1:1024]</td><td>[1:101,1:1024]</td><td>[75:175,1:1024]</td><td>[1:1024,1:1024]</td><td>1 1</td><td>test</td><td>4563.7</td><td>&apos;KPNO-IRAF&apos;  /,&apos;24-01-92&apos;  /,New copy of ../sp0008.imh,New copy of raw/sp0008.imh,New copy of ursa!/u2/jbarnes/iraf/helsinki/spec/sp0008.imh</td></tr>\n",
       "<tr><td>sp0009.fits</td><td>True</td><td>16</td><td>2</td><td>133</td><td>1024</td><td>False</td><td>NOAO-IRAF FITS Image Kernel July 2003</td><td>2016-10-13T14:05:48</td><td>2016-10-13T14:05:48</td><td>609.0</td><td>620.0</td><td>biases 1st afternoon</td><td>620.0</td><td>609.0</td><td>KPNO</td><td>Massey</td><td>0.0</td><td>0.0</td><td>zero</td><td>24/01/92</td><td>22:49:50.00</td><td>23:37:31.00</td><td>23:37:25.00</td><td>0:03:31.00</td><td>1992.1</td><td>31.820</td><td>1.17</td><td>kpcdf</td><td>te1k</td><td>0</td><td>5.4</td><td>5</td><td>3.5</td><td>0</td><td>0</td><td>-113</td><td>-192</td><td>[1:101,1:1024]</td><td>[102:133,1:1024]</td><td>[1:101,1:1024]</td><td>[75:175,1:1024]</td><td>[1:1024,1:1024]</td><td>1 1</td><td>test</td><td>4563.7</td><td>&apos;KPNO-IRAF&apos;  /,&apos;24-01-92&apos;  /,New copy of ../sp0009.imh,New copy of raw/sp0009.imh,New copy of ursa!/u2/jbarnes/iraf/helsinki/spec/sp0009.imh</td></tr>\n",
       "<tr><td>sp0010.fits</td><td>True</td><td>16</td><td>2</td><td>133</td><td>1024</td><td>False</td><td>NOAO-IRAF FITS Image Kernel July 2003</td><td>2016-10-13T14:05:48</td><td>2016-10-13T14:05:48</td><td>609.0</td><td>620.0</td><td>biases 1st afternoon</td><td>620.0</td><td>609.0</td><td>KPNO</td><td>Massey</td><td>0.0</td><td>0.0</td><td>zero</td><td>24/01/92</td><td>22:50:36.00</td><td>23:38:17.00</td><td>23:38:11.00</td><td>0:03:31.00</td><td>1992.1</td><td>31.820</td><td>1.17</td><td>kpcdf</td><td>te1k</td><td>0</td><td>5.4</td><td>5</td><td>3.5</td><td>0</td><td>0</td><td>-113</td><td>-192</td><td>[1:101,1:1024]</td><td>[102:133,1:1024]</td><td>[1:101,1:1024]</td><td>[75:175,1:1024]</td><td>[1:1024,1:1024]</td><td>1 1</td><td>test</td><td>4563.7</td><td>&apos;KPNO-IRAF&apos;  /,&apos;24-01-92&apos;  /,New copy of ../sp0010.imh,New copy of raw/sp0010.imh,New copy of ursa!/u2/jbarnes/iraf/helsinki/spec/sp0010.imh</td></tr>\n",
       "<tr><td>...</td><td>...</td><td>...</td><td>...</td><td>...</td><td>...</td><td>...</td><td>...</td><td>...</td><td>...</td><td>...</td><td>...</td><td>...</td><td>...</td><td>...</td><td>...</td><td>...</td><td>...</td><td>...</td><td>...</td><td>...</td><td>...</td><td>...</td><td>...</td><td>...</td><td>...</td><td>...</td><td>...</td><td>...</td><td>...</td><td>...</td><td>...</td><td>...</td><td>...</td><td>...</td><td>...</td><td>...</td><td>...</td><td>...</td><td>...</td><td>...</td><td>...</td><td>...</td><td>...</td><td>...</td><td>...</td><td>...</td></tr>\n",
       "<tr><td>sp0016.fits</td><td>True</td><td>16</td><td>2</td><td>133</td><td>1024</td><td>False</td><td>NOAO-IRAF FITS Image Kernel July 2003</td><td>2016-10-13T14:05:48</td><td>2016-10-13T14:05:48</td><td>608.0</td><td>10476.0</td><td>flats-6707</td><td>10476.0</td><td>608.0</td><td>KPNO</td><td>Massey</td><td>60.0</td><td>60.0</td><td>flat</td><td>25/01/92</td><td>1:17:47.00</td><td>2:05:52.00</td><td>1:41:03.00</td><td>5:26:59.00</td><td>1992.1</td><td>27.060</td><td>1.12</td><td>kpcdf</td><td>te1k</td><td>0</td><td>5.4</td><td>5</td><td>3.5</td><td>0</td><td>0</td><td>-113</td><td>-191</td><td>[1:101,1:1024]</td><td>[102:133,1:1024]</td><td>[1:101,1:1024]</td><td>[75:175,1:1024]</td><td>[1:1024,1:1024]</td><td>1 1</td><td>test</td><td>4563.7</td><td>&apos;KPNO-IRAF&apos;  /,&apos;24-01-92&apos;  /,New copy of ../sp0016.imh,New copy of raw/sp0016.imh,New copy of ursa!/u2/jbarnes/iraf/helsinki/spec/sp0016.imh</td></tr>\n",
       "<tr><td>sp0017.fits</td><td>True</td><td>16</td><td>2</td><td>133</td><td>1024</td><td>False</td><td>NOAO-IRAF FITS Image Kernel July 2003</td><td>2016-10-13T14:05:48</td><td>2016-10-13T14:05:48</td><td>608.0</td><td>10413.0</td><td>flats-6707</td><td>10413.0</td><td>608.0</td><td>KPNO</td><td>Massey</td><td>60.0</td><td>60.0</td><td>flat</td><td>25/01/92</td><td>1:19:34.00</td><td>2:07:39.00</td><td>1:41:03.00</td><td>5:26:59.00</td><td>1992.1</td><td>27.160</td><td>1.12</td><td>kpcdf</td><td>te1k</td><td>0</td><td>5.4</td><td>5</td><td>3.5</td><td>0</td><td>0</td><td>-113</td><td>-191</td><td>[1:101,1:1024]</td><td>[102:133,1:1024]</td><td>[1:101,1:1024]</td><td>[75:175,1:1024]</td><td>[1:1024,1:1024]</td><td>1 1</td><td>test</td><td>4563.7</td><td>&apos;KPNO-IRAF&apos;  /,&apos;24-01-92&apos;  /,New copy of ../sp0017.imh,New copy of raw/sp0017.imh,New copy of ursa!/u2/jbarnes/iraf/helsinki/spec/sp0017.imh</td></tr>\n",
       "<tr><td>sp0018.fits</td><td>True</td><td>16</td><td>2</td><td>133</td><td>1024</td><td>False</td><td>NOAO-IRAF FITS Image Kernel July 2003</td><td>2016-10-13T14:05:48</td><td>2016-10-13T14:05:48</td><td>608.0</td><td>9573.0</td><td>comp 6707 start of night</td><td>9573.0</td><td>608.0</td><td>KPNO</td><td>Massey</td><td>60.0</td><td>60.0</td><td>comp</td><td>25/01/92</td><td>1:22:20.00</td><td>2:10:26.00</td><td>1:41:03.00</td><td>5:26:59.00</td><td>1992.1</td><td>27.360</td><td>1.12</td><td>kpcdf</td><td>te1k</td><td>0</td><td>5.4</td><td>5</td><td>3.5</td><td>0</td><td>0</td><td>-113</td><td>-191</td><td>[1:101,1:1024]</td><td>[102:133,1:1024]</td><td>[1:101,1:1024]</td><td>[75:175,1:1024]</td><td>[1:1024,1:1024]</td><td>1 1</td><td>test</td><td>4563.7</td><td>&apos;KPNO-IRAF&apos;  /,&apos;24-01-92&apos;  /,New copy of ../sp0018.imh,New copy of raw/sp0018.imh,New copy of ursa!/u2/jbarnes/iraf/helsinki/spec/sp0018.imh</td></tr>\n",
       "<tr><td>sp0020.fits</td><td>True</td><td>16</td><td>2</td><td>133</td><td>1024</td><td>False</td><td>NOAO-IRAF FITS Image Kernel July 2003</td><td>2016-10-13T14:05:48</td><td>2016-10-13T14:05:48</td><td>608.0</td><td>2141.0</td><td>DHCep 6707</td><td>2141.0</td><td>608.0</td><td>KPNO</td><td>Massey</td><td>1200.0</td><td>1200.0</td><td>object</td><td>25/01/92</td><td>2:08:22.00</td><td>2:56:35.00</td><td>22:46:32.00</td><td>58:02:22.00</td><td>1992.1</td><td>48.950</td><td>1.52</td><td>kpcdf</td><td>te1k</td><td>0</td><td>5.4</td><td>5</td><td>3.5</td><td>0</td><td>0</td><td>-113</td><td>-191</td><td>[1:101,1:1024]</td><td>[102:133,1:1024]</td><td>[1:101,1:1024]</td><td>[75:175,1:1024]</td><td>[1:1024,1:1024]</td><td>1 1</td><td>test</td><td>4563.7</td><td>&apos;KPNO-IRAF&apos;  /,&apos;24-01-92&apos;  /,New copy of ../sp0020.imh,New copy of raw/sp0020.imh,New copy of ursa!/u2/jbarnes/iraf/helsinki/spec/sp0020.imh</td></tr>\n",
       "<tr><td>sp0021.fits</td><td>True</td><td>16</td><td>2</td><td>133</td><td>1024</td><td>False</td><td>NOAO-IRAF FITS Image Kernel July 2003</td><td>2016-10-13T14:05:48</td><td>2016-10-13T14:05:48</td><td>608.0</td><td>2304.0</td><td>DHCep 6707</td><td>2304.0</td><td>608.0</td><td>KPNO</td><td>Massey</td><td>1200.0</td><td>1200.0</td><td>object</td><td>25/01/92</td><td>2:29:11.00</td><td>3:17:28.00</td><td>22:46:32.00</td><td>58:02:45.00</td><td>1992.1</td><td>51.710</td><td>1.61</td><td>kpcdf</td><td>te1k</td><td>0</td><td>5.4</td><td>5</td><td>3.5</td><td>0</td><td>0</td><td>-113</td><td>-191</td><td>[1:101,1:1024]</td><td>[102:133,1:1024]</td><td>[1:101,1:1024]</td><td>[75:175,1:1024]</td><td>[1:1024,1:1024]</td><td>1 1</td><td>test</td><td>4563.7</td><td>&apos;KPNO-IRAF&apos;  /,&apos;24-01-92&apos;  /,New copy of ../sp0021.imh,New copy of raw/sp0021.imh,New copy of ursa!/u2/jbarnes/iraf/helsinki/spec/sp0021.imh</td></tr>\n",
       "<tr><td>sp0022.fits</td><td>True</td><td>16</td><td>2</td><td>133</td><td>1024</td><td>False</td><td>NOAO-IRAF FITS Image Kernel July 2003</td><td>2016-10-13T14:05:48</td><td>2016-10-13T14:05:48</td><td>608.0</td><td>2569.0</td><td>DHCep 6707</td><td>2569.0</td><td>608.0</td><td>KPNO</td><td>Massey</td><td>1200.0</td><td>1200.0</td><td>object</td><td>25/01/92</td><td>2:50:01.00</td><td>3:38:21.00</td><td>22:46:32.00</td><td>58:02:33.00</td><td>1992.1</td><td>54.470</td><td>1.72</td><td>kpcdf</td><td>te1k</td><td>0</td><td>5.4</td><td>5</td><td>3.5</td><td>0</td><td>0</td><td>-113</td><td>-191</td><td>[1:101,1:1024]</td><td>[102:133,1:1024]</td><td>[1:101,1:1024]</td><td>[75:175,1:1024]</td><td>[1:1024,1:1024]</td><td>1 1</td><td>test</td><td>4563.7</td><td>&apos;KPNO-IRAF&apos;  /,&apos;24-01-92&apos;  /,New copy of ../sp0022.imh,New copy of raw/sp0022.imh,New copy of ursa!/u2/jbarnes/iraf/helsinki/spec/sp0022.imh</td></tr>\n",
       "<tr><td>sp0023.fits</td><td>True</td><td>16</td><td>2</td><td>133</td><td>1024</td><td>False</td><td>NOAO-IRAF FITS Image Kernel July 2003</td><td>2016-10-13T14:05:48</td><td>2016-10-13T14:05:48</td><td>608.0</td><td>2587.0</td><td>AHCep 6707</td><td>2587.0</td><td>608.0</td><td>KPNO</td><td>Massey</td><td>1200.0</td><td>1200.0</td><td>object</td><td>25/01/92</td><td>3:11:23.00</td><td>3:59:47.00</td><td>22:47:33.00</td><td>65:00:49.00</td><td>1992.1</td><td>56.330</td><td>1.8</td><td>kpcdf</td><td>te1k</td><td>0</td><td>5.4</td><td>5</td><td>3.5</td><td>0</td><td>0</td><td>-113</td><td>-191</td><td>[1:101,1:1024]</td><td>[102:133,1:1024]</td><td>[1:101,1:1024]</td><td>[75:175,1:1024]</td><td>[1:1024,1:1024]</td><td>1 1</td><td>test</td><td>4563.7</td><td>&apos;KPNO-IRAF&apos;  /,&apos;24-01-92&apos;  /,New copy of ../sp0023.imh,New copy of raw/sp0023.imh,New copy of ursa!/u2/jbarnes/iraf/helsinki/spec/sp0023.imh</td></tr>\n",
       "<tr><td>sp0024.fits</td><td>True</td><td>16</td><td>2</td><td>133</td><td>1024</td><td>False</td><td>NOAO-IRAF FITS Image Kernel July 2003</td><td>2016-10-13T14:05:48</td><td>2016-10-13T14:05:48</td><td>608.0</td><td>2188.0</td><td>AHCep 6707</td><td>2188.0</td><td>608.0</td><td>KPNO</td><td>Massey</td><td>1200.0</td><td>1200.0</td><td>object</td><td>25/01/92</td><td>3:32:11.00</td><td>4:20:37.99</td><td>22:47:31.00</td><td>65:01:07.00</td><td>1992.1</td><td>58.520</td><td>1.91</td><td>kpcdf</td><td>te1k</td><td>0</td><td>5.4</td><td>5</td><td>3.5</td><td>0</td><td>0</td><td>-113</td><td>-191</td><td>[1:101,1:1024]</td><td>[102:133,1:1024]</td><td>[1:101,1:1024]</td><td>[75:175,1:1024]</td><td>[1:1024,1:1024]</td><td>1 1</td><td>test</td><td>4563.7</td><td>&apos;KPNO-IRAF&apos;  /,&apos;24-01-92&apos;  /,New copy of ../sp0024.imh,New copy of raw/sp0024.imh,New copy of ursa!/u2/jbarnes/iraf/helsinki/spec/sp0024.imh</td></tr>\n",
       "<tr><td>sp0025.fits</td><td>True</td><td>16</td><td>2</td><td>133</td><td>1024</td><td>False</td><td>NOAO-IRAF FITS Image Kernel July 2003</td><td>2016-10-13T14:05:48</td><td>2016-10-13T14:05:48</td><td>608.0</td><td>2476.0</td><td>AHCep 6707</td><td>2476.0</td><td>608.0</td><td>KPNO</td><td>Massey</td><td>1200.0</td><td>1200.0</td><td>object</td><td>25/01/92</td><td>3:52:59.00</td><td>4:41:30.00</td><td>22:47:31.00</td><td>65:01:10.00</td><td>1992.1</td><td>60.690</td><td>2.04</td><td>kpcdf</td><td>te1k</td><td>0</td><td>5.4</td><td>5</td><td>3.5</td><td>0</td><td>0</td><td>-113</td><td>-191</td><td>[1:101,1:1024]</td><td>[102:133,1:1024]</td><td>[1:101,1:1024]</td><td>[75:175,1:1024]</td><td>[1:1024,1:1024]</td><td>1 1</td><td>test</td><td>4563.7</td><td>&apos;KPNO-IRAF&apos;  /,&apos;24-01-92&apos;  /,New copy of ../sp0025.imh,New copy of raw/sp0025.imh,New copy of ursa!/u2/jbarnes/iraf/helsinki/spec/sp0025.imh</td></tr>\n",
       "<tr><td>sp0027.fits</td><td>True</td><td>16</td><td>2</td><td>133</td><td>1024</td><td>False</td><td>NOAO-IRAF FITS Image Kernel July 2003</td><td>2016-10-13T14:05:48</td><td>2016-10-13T14:05:48</td><td>608.0</td><td>28480.0</td><td>comp 6707</td><td>28480.0</td><td>608.0</td><td>KPNO</td><td>Massey</td><td>60.0</td><td>60.0</td><td>comp</td><td>25/01/92</td><td>4:17:53.00</td><td>5:06:28.00</td><td>5:12:55.00</td><td>38:28:41.00</td><td>1992.1</td><td>6.260</td><td>1.0</td><td>kpcdf</td><td>te1k</td><td>0</td><td>5.4</td><td>5</td><td>3.5</td><td>0</td><td>0</td><td>-113</td><td>-191</td><td>[1:101,1:1024]</td><td>[102:133,1:1024]</td><td>[1:101,1:1024]</td><td>[75:175,1:1024]</td><td>[1:1024,1:1024]</td><td>1 1</td><td>test</td><td>4563.7</td><td>&apos;KPNO-IRAF&apos;  /,&apos;24-01-92&apos;  /,New copy of ../sp0027.imh,New copy of raw/sp0027.imh,New copy of ursa!/u2/jbarnes/iraf/helsinki/spec/sp0027.imh</td></tr>\n",
       "</table>"
      ],
      "text/plain": [
       "<Table masked=True length=25>\n",
       "    file    ...\n",
       "   str11    ...\n",
       "----------- ...\n",
       "sp0001.fits ...\n",
       "sp0002.fits ...\n",
       "sp0003.fits ...\n",
       "sp0004.fits ...\n",
       "sp0005.fits ...\n",
       "sp0006.fits ...\n",
       "sp0007.fits ...\n",
       "sp0008.fits ...\n",
       "sp0009.fits ...\n",
       "sp0010.fits ...\n",
       "        ... ...\n",
       "sp0016.fits ...\n",
       "sp0017.fits ...\n",
       "sp0018.fits ...\n",
       "sp0020.fits ...\n",
       "sp0021.fits ...\n",
       "sp0022.fits ...\n",
       "sp0023.fits ...\n",
       "sp0024.fits ...\n",
       "sp0025.fits ...\n",
       "sp0027.fits ..."
      ]
     },
     "execution_count": 5,
     "metadata": {},
     "output_type": "execute_result"
    }
   ],
   "source": [
    "ic.summary"
   ]
  },
  {
   "cell_type": "raw",
   "metadata": {},
   "source": [
    "from ginga.web.pgw import ipg\n",
    "use_opencv = False\n",
    "\n",
    "server = ipg.make_server(host='localhost', port=9914, use_opencv=use_opencv)\n",
    "server.start(no_ioloop=True)\n",
    "v1 = server.get_viewer('v1')\n",
    "v1.open()\n",
    "v1.load('exercises/spec/sp0020.fits')\n",
    "v1.embed(height=650)\n",
    "v1.show()\n"
   ]
  },
  {
   "cell_type": "code",
   "execution_count": 6,
   "metadata": {
    "collapsed": false,
    "scrolled": false
   },
   "outputs": [],
   "source": [
    "# create the master biasframe\n",
    "\n",
    "# function used for fitting bias frames\n",
    "cheb_1 = mod.models.Chebyshev1D(1)\n",
    "#create a list of bias frames\n",
    "bias_list = []\n",
    "for hdu, fname in ic.hdus(return_fname=True, object='biases 1st afternoon'):\n",
    "    ccd = CCDData.read(image_dir+fname, unit='adu')\n",
    "    ccd = ccdproc.subtract_overscan(ccd, fits_section='[105:130,1:1024]')\n",
    "    ccd = ccdproc.trim_image(ccd, fits_section=\"[34:74,1:1022]\")\n",
    "    bias_list.append(ccd)"
   ]
  },
  {
   "cell_type": "code",
   "execution_count": 7,
   "metadata": {
    "collapsed": true
   },
   "outputs": [],
   "source": [
    "#combine into master bias frame\n",
    "master_bias = ccdproc.combine(bias_list, method='average', clip_extrema=True, \n",
    "                              nlow = 1, nhigh = 1)"
   ]
  },
  {
   "cell_type": "code",
   "execution_count": 8,
   "metadata": {
    "collapsed": false
   },
   "outputs": [],
   "source": [
    "#process flat data\n",
    "# In this case we use ccdproc.ccd_process instead of each individual step\n",
    "\n",
    "#create a list of flat frames\n",
    "flat_list = []\n",
    "for hdu, fname in ic.hdus(return_fname=True, object='flats-6707'):\n",
    "    ccd = CCDData.read(image_dir+fname, unit='adu')\n",
    "    ccd = ccdproc.ccd_process(ccd, oscan='[105:130,1:1024]', oscan_model=cheb_1, \n",
    "                              trim=\"[34:74,1:1022]\", master_bias=master_bias)\n",
    "    flat_list.append(ccd)\n",
    "    \n",
    "#combine into a single master flat\n",
    "master_flat = ccdproc.combine(flat_list, method='average', sigma_clip=True, \n",
    "                               low_thresh=3, high_thresh=3)\n"
   ]
  },
  {
   "cell_type": "code",
   "execution_count": 9,
   "metadata": {
    "collapsed": false,
    "scrolled": false
   },
   "outputs": [],
   "source": [
    "#process the sky flat data\n",
    "\n",
    "#create a list of sky flat frames\n",
    "skyflat_list = []\n",
    "exp_list = []\n",
    "for fname in ['sp0011.fits','sp0012.fits','sp0013.fits']:\n",
    "    ccd = CCDData.read(image_dir+fname, unit='adu')\n",
    "    exp_list.append(ccd.header['EXPTIME'])\n",
    "    ccd = ccdproc.ccd_process(ccd, oscan='[105:130,1:1024]', oscan_model=cheb_1, \n",
    "                              trim=\"[34:74,1:1022]\", master_bias=master_bias)\n",
    "    skyflat_list.append(ccd)\n",
    "    \n",
    "#combine into a single master flat\n",
    "\n",
    "master_sky = ccdproc.combine(skyflat_list, method='average', scale=np.median, \n",
    "                             weights=np.array(exp_list), sigma_clip=True, \n",
    "                             slow_thresh=3, high_thresh=3)"
   ]
  },
  {
   "cell_type": "code",
   "execution_count": 12,
   "metadata": {
    "collapsed": false
   },
   "outputs": [],
   "source": [
    "# correct for the response function\n",
    "cheb_5 = mod.models.Chebyshev1D(5)\n",
    "fitter = mod.fitting.LinearLSQFitter()\n",
    "\n",
    "fy = master_flat.data.sum(axis=1)/master_flat.shape[1]\n",
    "yarr = np.arange(len(fy))\n",
    "resp_func = fitter(cheb_5, yarr, fy)\n",
    "response =  master_flat.divide(resp_func(yarr).reshape((len(yarr),1))*u.dimensionless_unscaled)"
   ]
  },
  {
   "cell_type": "code",
   "execution_count": 13,
   "metadata": {
    "collapsed": false
   },
   "outputs": [],
   "source": [
    "# correct for the illumination correction\n",
    "sky = master_sky.divide(resp_func(yarr).reshape((len(yarr),1))*u.dimensionless_unscaled)\n",
    "\n",
    "cheb_22 = mod.models.Chebyshev2D(2,2)\n",
    "yarr, xarr = np.indices(sky.data.shape)\n",
    "illum = fitter(cheb_22, xarr, yarr, sky.data)\n",
    "# add fitting with rejection\n",
    "# todo update to fit set regions"
   ]
  },
  {
   "cell_type": "code",
   "execution_count": 14,
   "metadata": {
    "collapsed": false
   },
   "outputs": [],
   "source": [
    "sky.data = illum(xarr, yarr)\n",
    "sky.data = sky.divide(sky.data.mean())"
   ]
  },
  {
   "cell_type": "code",
   "execution_count": 15,
   "metadata": {
    "collapsed": true
   },
   "outputs": [],
   "source": [
    "super_flat = sky.multiply(response)"
   ]
  },
  {
   "cell_type": "code",
   "execution_count": 139,
   "metadata": {
    "collapsed": false
   },
   "outputs": [],
   "source": [
    "img_list = []\n",
    "for fname in ['sp0018.fits', 'sp0020.fits','sp0021.fits','sp0022.fits', 'sp0023.fits'\n",
    "              ,'sp0024.fits','sp0025.fits', 'sp0027.fits']:\n",
    "    ccd = CCDData.read(image_dir+fname, unit='adu')\n",
    "    hdr = ccd.header\n",
    "    ccd = ccdproc.ccd_process(ccd, oscan='[105:130,1:1024]', oscan_model=cheb_1, \n",
    "                              trim=\"[34:74,1:1022]\", master_bias=master_bias, \n",
    "                              master_flat=super_flat)\n",
    "    # add comsic ray cleaning\n",
    "    ccd = ccdproc.cosmicray_lacosmic(ccd, sigclip=3., sigfrac=0.3,  \n",
    "                                     gain=hdr['GAIN'], readnoise=hdr['RDNOISE']) \n",
    "    img_list.append(ccd)\n",
    "    ccd.write('p'+fname, clobber=True)"
   ]
  },
  {
   "cell_type": "markdown",
   "metadata": {
    "collapsed": true
   },
   "source": [
    "## Spectroscopic Reductions"
   ]
  },
  {
   "cell_type": "code",
   "execution_count": 109,
   "metadata": {
    "collapsed": false
   },
   "outputs": [],
   "source": [
    "from specreduce.interidentify import InterIdentify\n",
    "from specreduce import spectools as st\n",
    "from specreduce import WavelengthSolution\n"
   ]
  },
  {
   "cell_type": "markdown",
   "metadata": {
    "collapsed": false
   },
   "source": [
    "[*specreduce*](https://github.com/crawfordsm/specreduce) is a package for handling the wavelength calibration of spectroscopic data.   The code contains all the necessary content to identify arc lines and to rectify spectra.   It can be used for longslit, multi-object, or echelle spectrographs. \n",
    "\n"
   ]
  },
  {
   "cell_type": "code",
   "execution_count": 110,
   "metadata": {
    "collapsed": false
   },
   "outputs": [],
   "source": [
    "# read in the line lists -- if line ratios are availabe, it is easier to find\n",
    "# an automatic solution\n",
    "slines = np.loadtxt('thorium.dat')\n",
    "sfluxes = np.ones_like(slines)"
   ]
  },
  {
   "cell_type": "code",
   "execution_count": 111,
   "metadata": {
    "collapsed": false
   },
   "outputs": [],
   "source": [
    "# setup the data and correct for the orientation of the data\n",
    "# so that it is \n",
    "arc1 = img_list[0]\n",
    "data = arc1.data.T\n",
    "data = data[:,::-1]\n",
    "xarr = np.arange(data.shape[1])\n",
    "istart = int(data.shape[0]/2.0)"
   ]
  },
  {
   "cell_type": "code",
   "execution_count": 112,
   "metadata": {
    "collapsed": true
   },
   "outputs": [],
   "source": [
    "# initial guess for the wavelength solution\n",
    "ws_init = mod.models.Chebyshev1D(3)\n",
    "ws_init.domain = [xarr.min(), xarr.max()]\n",
    "ws = WavelengthSolution.WavelengthSolution(xarr, xarr, ws_init)"
   ]
  },
  {
   "cell_type": "code",
   "execution_count": 23,
   "metadata": {
    "collapsed": false
   },
   "outputs": [],
   "source": [
    "iws = InterIdentify(xarr, data, slines, sfluxes, ws, mdiff=20, rstep=5,\n",
    "              function='poly', order=3, sigma=3, niter=5, wdiff=0.5,\n",
    "              res=0.2, dres=0.05, dc=3, ndstep=50, istart=istart,\n",
    "              method='Zeropoint', smooth=0, filename=None,\n",
    "              subback=0, textcolor='black', log=None, verbose=True)"
   ]
  },
  {
   "cell_type": "code",
   "execution_count": 37,
   "metadata": {
    "collapsed": false,
    "scrolled": true
   },
   "outputs": [],
   "source": [
    "# correct for curvature in the arc\n",
    "ws_init = mod.models.Chebyshev1D(2)\n",
    "ws_init.domain = [xarr.min(), xarr.max()]\n",
    "ws = WavelengthSolution.WavelengthSolution(xarr, xarr, ws_init)\n",
    "aws = st.arc_straighten(data, istart, ws,  rstep=1)"
   ]
  },
  {
   "cell_type": "code",
   "execution_count": 122,
   "metadata": {
    "collapsed": false
   },
   "outputs": [],
   "source": [
    "# create wavelength map and apply wavelength solution to all data\n",
    "wave_map = st.wave_map(data, aws)\n",
    "k = 20.5\n",
    "ws = iws[k]\n",
    "for i in range(data.shape[0]):\n",
    "    wave_map[i,:] = iws[k](wave_map[i,:])"
   ]
  },
  {
   "cell_type": "code",
   "execution_count": 161,
   "metadata": {
    "collapsed": true
   },
   "outputs": [],
   "source": [
    "# extra the data\n",
    "obj_data = img_list[3].data\n",
    "obj_data = obj_data.T\n",
    "obj_data = obj_data[:,::-1]"
   ]
  },
  {
   "cell_type": "code",
   "execution_count": 169,
   "metadata": {
    "collapsed": false,
    "scrolled": true
   },
   "outputs": [
    {
     "data": {
      "image/png": "[encoded data removed]",
      "text/plain": [
       "<matplotlib.figure.Figure at 0x12037c5c0>"
      ]
     },
     "metadata": {},
     "output_type": "display_data"
    }
   ],
   "source": [
    "plt.imshow(obj_data, aspect='auto')\n",
    "ax = plt.gca()\n",
    "xt = ax.get_xticks()\n",
    "ax.set_xticklabels([int(x) for x in ws(xt)])\n",
    "plt.xlabel('Wavelength ($\\AA$)', size='x-large')\n",
    "ax.set_yticklabels([])\n",
    "plt.savefig('spec2d.pdf')\n",
    "plt.show()\n",
    "#ax.set_yticklabels([])"
   ]
  },
  {
   "cell_type": "code",
   "execution_count": 163,
   "metadata": {
    "collapsed": false
   },
   "outputs": [],
   "source": [
    "# sum the spectra between two steps \n",
    "# The spectra could be traced for better results\n",
    "# or it could extracted using more optimum methods\n",
    "\n",
    "warr = ws(xarr)\n",
    "flux = np.zeros_like(warr)\n",
    "for i in range(18,25):\n",
    "    f = np.interp(warr, wave_map[i], obj_data[i])\n",
    "    flux += f\n",
    "\n",
    "sky = np.zeros_like(warr)\n",
    "for i in range(25,32):\n",
    "    f = np.interp(warr, wave_map[i], obj_data[i])\n",
    "    sky += f\n",
    "    "
   ]
  },
  {
   "cell_type": "code",
   "execution_count": 170,
   "metadata": {
    "collapsed": false
   },
   "outputs": [
    {
     "data": {
      "image/png": "[encoded data removed]",
      "text/plain": [
       "<matplotlib.figure.Figure at 0x11d603630>"
      ]
     },
     "metadata": {},
     "output_type": "display_data"
    }
   ],
   "source": [
    "plt.plot(warr, flux - sky)\n",
    "plt.xlabel('Wavelength ($\\AA$)', size='x-large')\n",
    "plt.ylabel('counts')\n",
    "plt.savefig('spec1d.pdf')\n",
    "\n",
    "plt.show()"
   ]
  },
  {
   "cell_type": "code",
   "execution_count": null,
   "metadata": {
    "collapsed": true
   },
   "outputs": [],
   "source": []
  },
  {
   "cell_type": "code",
   "execution_count": null,
   "metadata": {
    "collapsed": true
   },
   "outputs": [],
   "source": []
  },
  {
   "cell_type": "code",
   "execution_count": 156,
   "metadata": {
    "collapsed": false
   },
   "outputs": [],
   "source": [
    "#import pickle\n",
    "#pickle.dump(iws, open('iws.db', 'wb'))\n",
    "#iws = pickle.load(open('iws.db', 'rb'))"
   ]
  },
  {
   "cell_type": "code",
   "execution_count": 28,
   "metadata": {
    "collapsed": false
   },
   "outputs": [
    {
     "data": {
      "text/plain": [
       "{5.5: <specreduce.WavelengthSolution.WavelengthSolution at 0x11d2f9780>,\n",
       " 20.5: <specreduce.WavelengthSolution.WavelengthSolution at 0x117fdb438>,\n",
       " 25.5: <specreduce.WavelengthSolution.WavelengthSolution at 0x112709630>}"
      ]
     },
     "execution_count": 28,
     "metadata": {},
     "output_type": "execute_result"
    }
   ],
   "source": []
  },
  {
   "cell_type": "code",
   "execution_count": null,
   "metadata": {
    "collapsed": true
   },
   "outputs": [],
   "source": []
  }
 ],
 "metadata": {
  "kernelspec": {
   "display_name": "Python 3",
   "language": "python",
   "name": "python3"
  },
  "language_info": {
   "codemirror_mode": {
    "name": "ipython",
    "version": 3
   },
   "file_extension": ".py",
   "mimetype": "text/x-python",
   "name": "python",
   "nbconvert_exporter": "python",
   "pygments_lexer": "ipython3",
   "version": "3.5.2"
  }
 },
 "nbformat": 4,
 "nbformat_minor": 0
}
